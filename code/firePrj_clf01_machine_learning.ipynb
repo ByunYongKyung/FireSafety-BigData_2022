{
  "nbformat": 4,
  "nbformat_minor": 0,
  "metadata": {
    "colab": {
      "name": "firePrj_clf01_machine learning.ipynb",
      "provenance": []
    },
    "kernelspec": {
      "name": "python3",
      "display_name": "Python 3"
    },
    "language_info": {
      "name": "python"
    }
  },
  "cells": [
    {
      "cell_type": "code",
      "execution_count": null,
      "metadata": {
        "id": "UDvFsUf7d4Q5"
      },
      "outputs": [],
      "source": [
        "import pandas as pd"
      ]
    },
    {
      "cell_type": "code",
      "source": [
        "fire_df = pd.read_csv('/content/drive/MyDrive/소방안전빅데이터/data/train_no_nodam (2).csv')\n",
        "fire_df.head()"
      ],
      "metadata": {
        "colab": {
          "base_uri": "https://localhost:8080/",
          "height": 560
        },
        "id": "My2XF5RkeS3g",
        "outputId": "5e719b91-7d17-4fda-f7cb-d8c356f57942"
      },
      "execution_count": null,
      "outputs": [
        {
          "output_type": "execute_result",
          "data": {
            "text/plain": [
              "       집계년월  화재현황 행정구역  독거노인가구수  등록장애인수   인구밀도  소방장비(차량)     건물평균연령  평균기온  \\\n",
              "0  2014.1.1    45  강남구    11249   16139  14770        46  20.729300  -0.7   \n",
              "1  2014.1.1    25  강동구    10546   18226  19577        37  20.892452  -0.7   \n",
              "2  2014.1.1    10  강북구    12588   17357  14341        32  25.968648  -0.7   \n",
              "3  2014.1.1    25  강서구    14073   27979  14282        39  20.609222  -0.7   \n",
              "4  2014.1.1    21  관악구    14318   20498  17991        35  20.871899  -0.7   \n",
              "\n",
              "   평균강수량  ...  단독주택가스  교육의료가스   판매가스  기타가스   가스합계           피해액        사망  \\\n",
              "0   13.0  ...   17046    2365  27510   817  47738  144095.07040  0.105634   \n",
              "1   13.0  ...   18568   18568   6734  1456  45326   61104.70711  0.104603   \n",
              "2   13.0  ...   14980     468   2285   281  18014   21155.37234  0.053191   \n",
              "3   13.0  ...   20759    1140   8769  1991  32659   55337.17320  0.081699   \n",
              "4   13.0  ...   26602    1470   6865   299  35236   51010.29231  0.161538   \n",
              "\n",
              "         부상       이재민수        소실면적  \n",
              "0  1.795775  12.147887  433.732394  \n",
              "1  1.569038   3.242678  173.849372  \n",
              "2  0.372340   0.053191   42.819149  \n",
              "3  3.431373   0.653595  116.258170  \n",
              "4  1.130769   0.484615  231.080769  \n",
              "\n",
              "[5 rows x 27 columns]"
            ],
            "text/html": [
              "\n",
              "  <div id=\"df-af9fa2c1-1f9c-477a-a888-0315e6539928\">\n",
              "    <div class=\"colab-df-container\">\n",
              "      <div>\n",
              "<style scoped>\n",
              "    .dataframe tbody tr th:only-of-type {\n",
              "        vertical-align: middle;\n",
              "    }\n",
              "\n",
              "    .dataframe tbody tr th {\n",
              "        vertical-align: top;\n",
              "    }\n",
              "\n",
              "    .dataframe thead th {\n",
              "        text-align: right;\n",
              "    }\n",
              "</style>\n",
              "<table border=\"1\" class=\"dataframe\">\n",
              "  <thead>\n",
              "    <tr style=\"text-align: right;\">\n",
              "      <th></th>\n",
              "      <th>집계년월</th>\n",
              "      <th>화재현황</th>\n",
              "      <th>행정구역</th>\n",
              "      <th>독거노인가구수</th>\n",
              "      <th>등록장애인수</th>\n",
              "      <th>인구밀도</th>\n",
              "      <th>소방장비(차량)</th>\n",
              "      <th>건물평균연령</th>\n",
              "      <th>평균기온</th>\n",
              "      <th>평균강수량</th>\n",
              "      <th>...</th>\n",
              "      <th>단독주택가스</th>\n",
              "      <th>교육의료가스</th>\n",
              "      <th>판매가스</th>\n",
              "      <th>기타가스</th>\n",
              "      <th>가스합계</th>\n",
              "      <th>피해액</th>\n",
              "      <th>사망</th>\n",
              "      <th>부상</th>\n",
              "      <th>이재민수</th>\n",
              "      <th>소실면적</th>\n",
              "    </tr>\n",
              "  </thead>\n",
              "  <tbody>\n",
              "    <tr>\n",
              "      <th>0</th>\n",
              "      <td>2014.1.1</td>\n",
              "      <td>45</td>\n",
              "      <td>강남구</td>\n",
              "      <td>11249</td>\n",
              "      <td>16139</td>\n",
              "      <td>14770</td>\n",
              "      <td>46</td>\n",
              "      <td>20.729300</td>\n",
              "      <td>-0.7</td>\n",
              "      <td>13.0</td>\n",
              "      <td>...</td>\n",
              "      <td>17046</td>\n",
              "      <td>2365</td>\n",
              "      <td>27510</td>\n",
              "      <td>817</td>\n",
              "      <td>47738</td>\n",
              "      <td>144095.07040</td>\n",
              "      <td>0.105634</td>\n",
              "      <td>1.795775</td>\n",
              "      <td>12.147887</td>\n",
              "      <td>433.732394</td>\n",
              "    </tr>\n",
              "    <tr>\n",
              "      <th>1</th>\n",
              "      <td>2014.1.1</td>\n",
              "      <td>25</td>\n",
              "      <td>강동구</td>\n",
              "      <td>10546</td>\n",
              "      <td>18226</td>\n",
              "      <td>19577</td>\n",
              "      <td>37</td>\n",
              "      <td>20.892452</td>\n",
              "      <td>-0.7</td>\n",
              "      <td>13.0</td>\n",
              "      <td>...</td>\n",
              "      <td>18568</td>\n",
              "      <td>18568</td>\n",
              "      <td>6734</td>\n",
              "      <td>1456</td>\n",
              "      <td>45326</td>\n",
              "      <td>61104.70711</td>\n",
              "      <td>0.104603</td>\n",
              "      <td>1.569038</td>\n",
              "      <td>3.242678</td>\n",
              "      <td>173.849372</td>\n",
              "    </tr>\n",
              "    <tr>\n",
              "      <th>2</th>\n",
              "      <td>2014.1.1</td>\n",
              "      <td>10</td>\n",
              "      <td>강북구</td>\n",
              "      <td>12588</td>\n",
              "      <td>17357</td>\n",
              "      <td>14341</td>\n",
              "      <td>32</td>\n",
              "      <td>25.968648</td>\n",
              "      <td>-0.7</td>\n",
              "      <td>13.0</td>\n",
              "      <td>...</td>\n",
              "      <td>14980</td>\n",
              "      <td>468</td>\n",
              "      <td>2285</td>\n",
              "      <td>281</td>\n",
              "      <td>18014</td>\n",
              "      <td>21155.37234</td>\n",
              "      <td>0.053191</td>\n",
              "      <td>0.372340</td>\n",
              "      <td>0.053191</td>\n",
              "      <td>42.819149</td>\n",
              "    </tr>\n",
              "    <tr>\n",
              "      <th>3</th>\n",
              "      <td>2014.1.1</td>\n",
              "      <td>25</td>\n",
              "      <td>강서구</td>\n",
              "      <td>14073</td>\n",
              "      <td>27979</td>\n",
              "      <td>14282</td>\n",
              "      <td>39</td>\n",
              "      <td>20.609222</td>\n",
              "      <td>-0.7</td>\n",
              "      <td>13.0</td>\n",
              "      <td>...</td>\n",
              "      <td>20759</td>\n",
              "      <td>1140</td>\n",
              "      <td>8769</td>\n",
              "      <td>1991</td>\n",
              "      <td>32659</td>\n",
              "      <td>55337.17320</td>\n",
              "      <td>0.081699</td>\n",
              "      <td>3.431373</td>\n",
              "      <td>0.653595</td>\n",
              "      <td>116.258170</td>\n",
              "    </tr>\n",
              "    <tr>\n",
              "      <th>4</th>\n",
              "      <td>2014.1.1</td>\n",
              "      <td>21</td>\n",
              "      <td>관악구</td>\n",
              "      <td>14318</td>\n",
              "      <td>20498</td>\n",
              "      <td>17991</td>\n",
              "      <td>35</td>\n",
              "      <td>20.871899</td>\n",
              "      <td>-0.7</td>\n",
              "      <td>13.0</td>\n",
              "      <td>...</td>\n",
              "      <td>26602</td>\n",
              "      <td>1470</td>\n",
              "      <td>6865</td>\n",
              "      <td>299</td>\n",
              "      <td>35236</td>\n",
              "      <td>51010.29231</td>\n",
              "      <td>0.161538</td>\n",
              "      <td>1.130769</td>\n",
              "      <td>0.484615</td>\n",
              "      <td>231.080769</td>\n",
              "    </tr>\n",
              "  </tbody>\n",
              "</table>\n",
              "<p>5 rows × 27 columns</p>\n",
              "</div>\n",
              "      <button class=\"colab-df-convert\" onclick=\"convertToInteractive('df-af9fa2c1-1f9c-477a-a888-0315e6539928')\"\n",
              "              title=\"Convert this dataframe to an interactive table.\"\n",
              "              style=\"display:none;\">\n",
              "        \n",
              "  <svg xmlns=\"http://www.w3.org/2000/svg\" height=\"24px\"viewBox=\"0 0 24 24\"\n",
              "       width=\"24px\">\n",
              "    <path d=\"M0 0h24v24H0V0z\" fill=\"none\"/>\n",
              "    <path d=\"M18.56 5.44l.94 2.06.94-2.06 2.06-.94-2.06-.94-.94-2.06-.94 2.06-2.06.94zm-11 1L8.5 8.5l.94-2.06 2.06-.94-2.06-.94L8.5 2.5l-.94 2.06-2.06.94zm10 10l.94 2.06.94-2.06 2.06-.94-2.06-.94-.94-2.06-.94 2.06-2.06.94z\"/><path d=\"M17.41 7.96l-1.37-1.37c-.4-.4-.92-.59-1.43-.59-.52 0-1.04.2-1.43.59L10.3 9.45l-7.72 7.72c-.78.78-.78 2.05 0 2.83L4 21.41c.39.39.9.59 1.41.59.51 0 1.02-.2 1.41-.59l7.78-7.78 2.81-2.81c.8-.78.8-2.07 0-2.86zM5.41 20L4 18.59l7.72-7.72 1.47 1.35L5.41 20z\"/>\n",
              "  </svg>\n",
              "      </button>\n",
              "      \n",
              "  <style>\n",
              "    .colab-df-container {\n",
              "      display:flex;\n",
              "      flex-wrap:wrap;\n",
              "      gap: 12px;\n",
              "    }\n",
              "\n",
              "    .colab-df-convert {\n",
              "      background-color: #E8F0FE;\n",
              "      border: none;\n",
              "      border-radius: 50%;\n",
              "      cursor: pointer;\n",
              "      display: none;\n",
              "      fill: #1967D2;\n",
              "      height: 32px;\n",
              "      padding: 0 0 0 0;\n",
              "      width: 32px;\n",
              "    }\n",
              "\n",
              "    .colab-df-convert:hover {\n",
              "      background-color: #E2EBFA;\n",
              "      box-shadow: 0px 1px 2px rgba(60, 64, 67, 0.3), 0px 1px 3px 1px rgba(60, 64, 67, 0.15);\n",
              "      fill: #174EA6;\n",
              "    }\n",
              "\n",
              "    [theme=dark] .colab-df-convert {\n",
              "      background-color: #3B4455;\n",
              "      fill: #D2E3FC;\n",
              "    }\n",
              "\n",
              "    [theme=dark] .colab-df-convert:hover {\n",
              "      background-color: #434B5C;\n",
              "      box-shadow: 0px 1px 3px 1px rgba(0, 0, 0, 0.15);\n",
              "      filter: drop-shadow(0px 1px 2px rgba(0, 0, 0, 0.3));\n",
              "      fill: #FFFFFF;\n",
              "    }\n",
              "  </style>\n",
              "\n",
              "      <script>\n",
              "        const buttonEl =\n",
              "          document.querySelector('#df-af9fa2c1-1f9c-477a-a888-0315e6539928 button.colab-df-convert');\n",
              "        buttonEl.style.display =\n",
              "          google.colab.kernel.accessAllowed ? 'block' : 'none';\n",
              "\n",
              "        async function convertToInteractive(key) {\n",
              "          const element = document.querySelector('#df-af9fa2c1-1f9c-477a-a888-0315e6539928');\n",
              "          const dataTable =\n",
              "            await google.colab.kernel.invokeFunction('convertToInteractive',\n",
              "                                                     [key], {});\n",
              "          if (!dataTable) return;\n",
              "\n",
              "          const docLinkHtml = 'Like what you see? Visit the ' +\n",
              "            '<a target=\"_blank\" href=https://colab.research.google.com/notebooks/data_table.ipynb>data table notebook</a>'\n",
              "            + ' to learn more about interactive tables.';\n",
              "          element.innerHTML = '';\n",
              "          dataTable['output_type'] = 'display_data';\n",
              "          await google.colab.output.renderOutput(dataTable, element);\n",
              "          const docLink = document.createElement('div');\n",
              "          docLink.innerHTML = docLinkHtml;\n",
              "          element.appendChild(docLink);\n",
              "        }\n",
              "      </script>\n",
              "    </div>\n",
              "  </div>\n",
              "  "
            ]
          },
          "metadata": {},
          "execution_count": 3
        }
      ]
    },
    {
      "cell_type": "code",
      "source": [
        "fire_df.info()"
      ],
      "metadata": {
        "colab": {
          "base_uri": "https://localhost:8080/"
        },
        "id": "gxnAnrbUeXgn",
        "outputId": "b7e3eb63-eff6-4736-f9d8-4990dcc55030"
      },
      "execution_count": null,
      "outputs": [
        {
          "output_type": "stream",
          "name": "stdout",
          "text": [
            "<class 'pandas.core.frame.DataFrame'>\n",
            "RangeIndex: 2112 entries, 0 to 2111\n",
            "Data columns (total 27 columns):\n",
            " #   Column          Non-Null Count  Dtype  \n",
            "---  ------          --------------  -----  \n",
            " 0   집계년월            2112 non-null   object \n",
            " 1   화재현황            2112 non-null   int64  \n",
            " 2   행정구역            2112 non-null   object \n",
            " 3   독거노인가구수         2112 non-null   int64  \n",
            " 4   등록장애인수          2112 non-null   int64  \n",
            " 5   인구밀도            2112 non-null   int64  \n",
            " 6   소방장비(차량)        2112 non-null   int64  \n",
            " 7   건물평균연령          2112 non-null   float64\n",
            " 8   평균기온            2112 non-null   float64\n",
            " 9   평균강수량           2112 non-null   float64\n",
            " 10  평균습도            2112 non-null   float64\n",
            " 11  평균풍속            2112 non-null   float64\n",
            " 12  전기사용량(1000kwh)  2112 non-null   int64  \n",
            " 13  의용소방대원          2112 non-null   int64  \n",
            " 14  소방대상물           2112 non-null   int64  \n",
            " 15  주택수             2112 non-null   int64  \n",
            " 16  흡연자수            2112 non-null   int64  \n",
            " 17  단독주택가스          2112 non-null   int64  \n",
            " 18  교육의료가스          2112 non-null   int64  \n",
            " 19  판매가스            2112 non-null   int64  \n",
            " 20  기타가스            2112 non-null   int64  \n",
            " 21  가스합계            2112 non-null   int64  \n",
            " 22  피해액             2112 non-null   float64\n",
            " 23  사망              2112 non-null   float64\n",
            " 24  부상              2112 non-null   float64\n",
            " 25  이재민수            2112 non-null   float64\n",
            " 26  소실면적            2112 non-null   float64\n",
            "dtypes: float64(10), int64(15), object(2)\n",
            "memory usage: 445.6+ KB\n"
          ]
        }
      ]
    },
    {
      "cell_type": "code",
      "source": [
        "def target_make(money):\n",
        "  if money >= 112249:\n",
        "    return 3\n",
        "  elif money >= 49952:\n",
        "    return 2\n",
        "  elif money >=  17840:\n",
        "    return 1\n",
        "  else:\n",
        "    return 0"
      ],
      "metadata": {
        "id": "ewghzR9hosmd"
      },
      "execution_count": null,
      "outputs": []
    },
    {
      "cell_type": "code",
      "source": [
        "fire_df['target'] = fire_df['피해액'].apply(target_make)\n",
        "fire_df.columns"
      ],
      "metadata": {
        "colab": {
          "base_uri": "https://localhost:8080/"
        },
        "id": "AmRHW-EwougG",
        "outputId": "afd681fa-16d5-48e2-acfc-7ad400ef29ab"
      },
      "execution_count": null,
      "outputs": [
        {
          "output_type": "execute_result",
          "data": {
            "text/plain": [
              "Index(['집계년월', '화재현황', '행정구역', '독거노인가구수', '등록장애인수', '인구밀도', '소방장비(차량)',\n",
              "       '건물평균연령', '평균기온', '평균강수량', '평균습도', '평균풍속', '전기사용량(1000kwh)', '의용소방대원',\n",
              "       '소방대상물', '주택수', '흡연자수', '단독주택가스', '교육의료가스', '판매가스', '기타가스', '가스합계',\n",
              "       '피해액', '사망', '부상', '이재민수', '소실면적', 'target'],\n",
              "      dtype='object')"
            ]
          },
          "metadata": {},
          "execution_count": 9
        }
      ]
    },
    {
      "cell_type": "code",
      "source": [
        "fire_df_feature = fire_df.drop(columns = ['사망', '부상', '이재민수',\n",
        "       '소실면적', '가스합계','평균기온','평균습도','target', '행정구역', '피해액', '집계년월', '화재현황', '행정구역', '기타가스', '판매가스', '교육의료가스', '단독주택가스','평균강수량'])\n",
        "fire_df_target = fire_df.target\n",
        "len(fire_df_feature.columns)"
      ],
      "metadata": {
        "colab": {
          "base_uri": "https://localhost:8080/"
        },
        "id": "y7bhzsXzeesv",
        "outputId": "18150566-93e0-4bb6-f9c8-70b3dcce56c5"
      },
      "execution_count": null,
      "outputs": [
        {
          "output_type": "execute_result",
          "data": {
            "text/plain": [
              "11"
            ]
          },
          "metadata": {},
          "execution_count": 14
        }
      ]
    },
    {
      "cell_type": "code",
      "source": [
        "from sklearn.model_selection import train_test_split\n",
        "from sklearn.tree import DecisionTreeClassifier\n",
        "from sklearn.metrics import classification_report\n",
        "from sklearn.ensemble import RandomForestClassifier\n",
        "from sklearn import svm\n",
        "from sklearn.linear_model import LogisticRegression\n",
        "\n"
      ],
      "metadata": {
        "id": "Q1gM3NiXeqyI"
      },
      "execution_count": null,
      "outputs": []
    },
    {
      "cell_type": "code",
      "source": [
        "X_train, X_test, y_train, y_test = train_test_split(fire_df_feature,\n",
        "                                                    fire_df_target,\n",
        "                                                    test_size=0.2,\n",
        "                                                    random_state=42)\n"
      ],
      "metadata": {
        "id": "a6iiXT72fS2Y"
      },
      "execution_count": null,
      "outputs": []
    },
    {
      "cell_type": "code",
      "source": [
        "# decision tree 0.64 -> 69 (변수 11개로 줄였을때)\n",
        "decision_tree = DecisionTreeClassifier(random_state=32) #decision_tree변수에 모델 저장\n",
        "decision_tree.fit(X_train, y_train) #fit메서드로 모델 학습\n",
        "y_pred = decision_tree.predict(X_test)\n",
        "\n",
        "print(classification_report(y_test, y_pred))"
      ],
      "metadata": {
        "colab": {
          "base_uri": "https://localhost:8080/"
        },
        "id": "31jnuKnSfgLt",
        "outputId": "6c36a52c-2adb-4b9c-f62d-7afd3a0725cf"
      },
      "execution_count": null,
      "outputs": [
        {
          "output_type": "stream",
          "name": "stdout",
          "text": [
            "              precision    recall  f1-score   support\n",
            "\n",
            "           0       0.60      0.62      0.61        45\n",
            "           1       0.74      0.71      0.73       202\n",
            "           2       0.61      0.68      0.64       125\n",
            "           3       0.76      0.67      0.71        51\n",
            "\n",
            "    accuracy                           0.69       423\n",
            "   macro avg       0.68      0.67      0.67       423\n",
            "weighted avg       0.69      0.69      0.69       423\n",
            "\n"
          ]
        }
      ]
    },
    {
      "cell_type": "code",
      "source": [
        "# random_forest 0.69 -> 73 (변수 11개로 줄였을때)\n",
        "random_forest = RandomForestClassifier(random_state=32)\n",
        "random_forest.fit(X_train, y_train)\n",
        "y_pred = random_forest.predict(X_test)\n",
        "\n",
        "print(classification_report(y_test, y_pred))"
      ],
      "metadata": {
        "colab": {
          "base_uri": "https://localhost:8080/"
        },
        "id": "QLLEbZdpfoac",
        "outputId": "0f196b25-2096-4f6d-8f10-b4cc72c83096"
      },
      "execution_count": null,
      "outputs": [
        {
          "output_type": "stream",
          "name": "stdout",
          "text": [
            "              precision    recall  f1-score   support\n",
            "\n",
            "           0       0.69      0.53      0.60        45\n",
            "           1       0.77      0.75      0.76       202\n",
            "           2       0.64      0.76      0.70       125\n",
            "           3       0.86      0.73      0.79        51\n",
            "\n",
            "    accuracy                           0.73       423\n",
            "   macro avg       0.74      0.69      0.71       423\n",
            "weighted avg       0.73      0.73      0.73       423\n",
            "\n"
          ]
        }
      ]
    },
    {
      "cell_type": "code",
      "source": [
        "# SVM clf 0.53 -> 52 (변수 11개로 줄였을때)\n",
        "svm_model = svm.SVC()\n",
        "svm_model.fit(X_train, y_train)\n",
        "y_pred = svm_model.predict(X_test)\n",
        "\n",
        "print(classification_report(y_test, y_pred))"
      ],
      "metadata": {
        "colab": {
          "base_uri": "https://localhost:8080/"
        },
        "id": "UQeYcGvAfudO",
        "outputId": "f547e285-67c1-4f7f-e7c2-6fddade4f525"
      },
      "execution_count": null,
      "outputs": [
        {
          "output_type": "stream",
          "name": "stdout",
          "text": [
            "              precision    recall  f1-score   support\n",
            "\n",
            "           0       0.00      0.00      0.00        45\n",
            "           1       0.52      0.80      0.63       202\n",
            "           2       0.46      0.37      0.41       125\n",
            "           3       0.86      0.24      0.37        51\n",
            "\n",
            "    accuracy                           0.52       423\n",
            "   macro avg       0.46      0.35      0.35       423\n",
            "weighted avg       0.49      0.52      0.47       423\n",
            "\n"
          ]
        },
        {
          "output_type": "stream",
          "name": "stderr",
          "text": [
            "/usr/local/lib/python3.7/dist-packages/sklearn/metrics/_classification.py:1318: UndefinedMetricWarning: Precision and F-score are ill-defined and being set to 0.0 in labels with no predicted samples. Use `zero_division` parameter to control this behavior.\n",
            "  _warn_prf(average, modifier, msg_start, len(result))\n",
            "/usr/local/lib/python3.7/dist-packages/sklearn/metrics/_classification.py:1318: UndefinedMetricWarning: Precision and F-score are ill-defined and being set to 0.0 in labels with no predicted samples. Use `zero_division` parameter to control this behavior.\n",
            "  _warn_prf(average, modifier, msg_start, len(result))\n",
            "/usr/local/lib/python3.7/dist-packages/sklearn/metrics/_classification.py:1318: UndefinedMetricWarning: Precision and F-score are ill-defined and being set to 0.0 in labels with no predicted samples. Use `zero_division` parameter to control this behavior.\n",
            "  _warn_prf(average, modifier, msg_start, len(result))\n"
          ]
        }
      ]
    },
    {
      "cell_type": "code",
      "source": [
        "# logisticb 0.49 -> 0.51 (변수 11개로 줄였을때)\n",
        "logistic_model = LogisticRegression()\n",
        "logistic_model.fit(X_train, y_train)\n",
        "y_pred = logistic_model.predict(X_test)\n",
        "\n",
        "print(classification_report(y_test, y_pred))"
      ],
      "metadata": {
        "colab": {
          "base_uri": "https://localhost:8080/"
        },
        "id": "-VJyrQ2uf2Kf",
        "outputId": "46757cad-3823-4ead-946c-4ae3a550ddf9"
      },
      "execution_count": null,
      "outputs": [
        {
          "output_type": "stream",
          "name": "stdout",
          "text": [
            "              precision    recall  f1-score   support\n",
            "\n",
            "           0       0.00      0.00      0.00        45\n",
            "           1       0.54      0.83      0.65       202\n",
            "           2       0.43      0.36      0.39       125\n",
            "           3       0.25      0.04      0.07        51\n",
            "\n",
            "    accuracy                           0.51       423\n",
            "   macro avg       0.30      0.31      0.28       423\n",
            "weighted avg       0.41      0.51      0.44       423\n",
            "\n"
          ]
        },
        {
          "output_type": "stream",
          "name": "stderr",
          "text": [
            "/usr/local/lib/python3.7/dist-packages/sklearn/linear_model/_logistic.py:818: ConvergenceWarning: lbfgs failed to converge (status=1):\n",
            "STOP: TOTAL NO. of ITERATIONS REACHED LIMIT.\n",
            "\n",
            "Increase the number of iterations (max_iter) or scale the data as shown in:\n",
            "    https://scikit-learn.org/stable/modules/preprocessing.html\n",
            "Please also refer to the documentation for alternative solver options:\n",
            "    https://scikit-learn.org/stable/modules/linear_model.html#logistic-regression\n",
            "  extra_warning_msg=_LOGISTIC_SOLVER_CONVERGENCE_MSG,\n",
            "/usr/local/lib/python3.7/dist-packages/sklearn/metrics/_classification.py:1318: UndefinedMetricWarning: Precision and F-score are ill-defined and being set to 0.0 in labels with no predicted samples. Use `zero_division` parameter to control this behavior.\n",
            "  _warn_prf(average, modifier, msg_start, len(result))\n",
            "/usr/local/lib/python3.7/dist-packages/sklearn/metrics/_classification.py:1318: UndefinedMetricWarning: Precision and F-score are ill-defined and being set to 0.0 in labels with no predicted samples. Use `zero_division` parameter to control this behavior.\n",
            "  _warn_prf(average, modifier, msg_start, len(result))\n",
            "/usr/local/lib/python3.7/dist-packages/sklearn/metrics/_classification.py:1318: UndefinedMetricWarning: Precision and F-score are ill-defined and being set to 0.0 in labels with no predicted samples. Use `zero_division` parameter to control this behavior.\n",
            "  _warn_prf(average, modifier, msg_start, len(result))\n"
          ]
        }
      ]
    },
    {
      "cell_type": "code",
      "source": [
        "from keras.layers import Input, Dense, BatchNormalization \n",
        "from keras.models import Model"
      ],
      "metadata": {
        "id": "iB0Rm4tnh9CI"
      },
      "execution_count": null,
      "outputs": []
    },
    {
      "cell_type": "code",
      "source": [
        "X_train.shape[1]"
      ],
      "metadata": {
        "colab": {
          "base_uri": "https://localhost:8080/"
        },
        "id": "4IFvV9EMiuST",
        "outputId": "43699f55-9a2c-4c59-a58f-edcad680480a"
      },
      "execution_count": null,
      "outputs": [
        {
          "output_type": "execute_result",
          "data": {
            "text/plain": [
              "20"
            ]
          },
          "metadata": {},
          "execution_count": 13
        }
      ]
    },
    {
      "cell_type": "code",
      "source": [
        "\n"
      ],
      "metadata": {
        "colab": {
          "base_uri": "https://localhost:8080/"
        },
        "id": "YoO_vHmXk75Y",
        "outputId": "3d5c27f3-007c-454f-ad6c-22fb735edf72"
      },
      "execution_count": null,
      "outputs": [
        {
          "output_type": "execute_result",
          "data": {
            "text/plain": [
              "<bound method IndexOpsMixin.nunique of 590     1\n",
              "426     1\n",
              "141     0\n",
              "1157    1\n",
              "965     1\n",
              "       ..\n",
              "1130    4\n",
              "1294    1\n",
              "860     0\n",
              "1459    2\n",
              "1126    2\n",
              "Name: level, Length: 1536, dtype: int64>"
            ]
          },
          "metadata": {},
          "execution_count": 27
        }
      ]
    },
    {
      "cell_type": "code",
      "source": [
        "input = Input(shape = X_train.shape[1])\n",
        "x = Dense(512,activation = 'relu')(input)\n",
        "x = Dense(256,activation = 'relu')(x)\n",
        "x = Dense(128,activation = 'relu')(x)\n",
        "x = Dense(64,activation = 'relu')(x)\n",
        "x = Dense(32,activation = 'relu')(x)\n",
        "x = Dense(16,activation = 'relu')(x)\n",
        "output = Dense(y_train.nunique(),activation = 'softmax')(x)\n",
        "\n",
        "model = Model(inputs=input, outputs=output)"
      ],
      "metadata": {
        "id": "EMUye4meh8_x"
      },
      "execution_count": null,
      "outputs": []
    },
    {
      "cell_type": "code",
      "source": [
        "model.summary()"
      ],
      "metadata": {
        "colab": {
          "base_uri": "https://localhost:8080/"
        },
        "id": "RxFcOX1Rh800",
        "outputId": "ddfb4f6e-2542-45b8-adb9-bf18eef001c8"
      },
      "execution_count": null,
      "outputs": [
        {
          "output_type": "stream",
          "name": "stdout",
          "text": [
            "Model: \"model_2\"\n",
            "_________________________________________________________________\n",
            " Layer (type)                Output Shape              Param #   \n",
            "=================================================================\n",
            " input_3 (InputLayer)        [(None, 20)]              0         \n",
            "                                                                 \n",
            " dense_14 (Dense)            (None, 512)               10752     \n",
            "                                                                 \n",
            " dense_15 (Dense)            (None, 256)               131328    \n",
            "                                                                 \n",
            " dense_16 (Dense)            (None, 128)               32896     \n",
            "                                                                 \n",
            " dense_17 (Dense)            (None, 64)                8256      \n",
            "                                                                 \n",
            " dense_18 (Dense)            (None, 32)                2080      \n",
            "                                                                 \n",
            " dense_19 (Dense)            (None, 16)                528       \n",
            "                                                                 \n",
            " dense_20 (Dense)            (None, 5)                 85        \n",
            "                                                                 \n",
            "=================================================================\n",
            "Total params: 185,925\n",
            "Trainable params: 185,925\n",
            "Non-trainable params: 0\n",
            "_________________________________________________________________\n"
          ]
        }
      ]
    },
    {
      "cell_type": "code",
      "source": [
        "model.compile(optimizer = 'adam',loss = 'sparse_categorical_crossentropy',metrics = ['accuracy'])"
      ],
      "metadata": {
        "id": "1h19kel7iDXe"
      },
      "execution_count": null,
      "outputs": []
    },
    {
      "cell_type": "code",
      "source": [
        "model.fit(X_train,y_train,validation_data = (X_test,y_test) ,batch_size = 2, epochs = 100)"
      ],
      "metadata": {
        "colab": {
          "base_uri": "https://localhost:8080/"
        },
        "id": "vbxEMKO-iFJ6",
        "outputId": "15292108-39b1-4876-b46f-4eca9f43f470"
      },
      "execution_count": null,
      "outputs": [
        {
          "output_type": "stream",
          "name": "stdout",
          "text": [
            "Epoch 1/100\n",
            "768/768 [==============================] - 36s 4ms/step - loss: 129.3111 - accuracy: 0.3398 - val_loss: 1.5049 - val_accuracy: 0.4245\n",
            "Epoch 2/100\n",
            "768/768 [==============================] - 3s 3ms/step - loss: 1.4738 - accuracy: 0.3815 - val_loss: 1.4366 - val_accuracy: 0.4245\n",
            "Epoch 3/100\n",
            "768/768 [==============================] - 3s 3ms/step - loss: 1.4336 - accuracy: 0.3815 - val_loss: 1.4097 - val_accuracy: 0.4245\n",
            "Epoch 4/100\n",
            "768/768 [==============================] - 3s 3ms/step - loss: 1.4188 - accuracy: 0.3815 - val_loss: 1.3999 - val_accuracy: 0.4245\n",
            "Epoch 5/100\n",
            "768/768 [==============================] - 3s 4ms/step - loss: 1.4133 - accuracy: 0.3815 - val_loss: 1.3958 - val_accuracy: 0.4245\n",
            "Epoch 6/100\n",
            "768/768 [==============================] - 3s 3ms/step - loss: 1.4111 - accuracy: 0.3815 - val_loss: 1.3944 - val_accuracy: 0.4245\n",
            "Epoch 7/100\n",
            "768/768 [==============================] - 3s 3ms/step - loss: 1.4101 - accuracy: 0.3815 - val_loss: 1.3932 - val_accuracy: 0.4245\n",
            "Epoch 8/100\n",
            "768/768 [==============================] - 3s 3ms/step - loss: 1.4096 - accuracy: 0.3815 - val_loss: 1.3937 - val_accuracy: 0.4245\n",
            "Epoch 9/100\n",
            "768/768 [==============================] - 3s 3ms/step - loss: 1.4094 - accuracy: 0.3815 - val_loss: 1.3940 - val_accuracy: 0.4245\n",
            "Epoch 10/100\n",
            "768/768 [==============================] - 3s 3ms/step - loss: 1.4093 - accuracy: 0.3815 - val_loss: 1.3940 - val_accuracy: 0.4245\n",
            "Epoch 11/100\n",
            "768/768 [==============================] - 3s 4ms/step - loss: 1.4093 - accuracy: 0.3815 - val_loss: 1.3939 - val_accuracy: 0.4245\n",
            "Epoch 12/100\n",
            "768/768 [==============================] - 3s 3ms/step - loss: 1.4093 - accuracy: 0.3815 - val_loss: 1.3938 - val_accuracy: 0.4245\n",
            "Epoch 13/100\n",
            "768/768 [==============================] - 3s 4ms/step - loss: 1.4092 - accuracy: 0.3815 - val_loss: 1.3942 - val_accuracy: 0.4245\n",
            "Epoch 14/100\n",
            "768/768 [==============================] - 3s 3ms/step - loss: 1.4092 - accuracy: 0.3815 - val_loss: 1.3936 - val_accuracy: 0.4245\n",
            "Epoch 15/100\n",
            "768/768 [==============================] - 3s 4ms/step - loss: 1.4092 - accuracy: 0.3815 - val_loss: 1.3937 - val_accuracy: 0.4245\n",
            "Epoch 16/100\n",
            "768/768 [==============================] - 3s 4ms/step - loss: 1.4092 - accuracy: 0.3815 - val_loss: 1.3942 - val_accuracy: 0.4245\n",
            "Epoch 17/100\n",
            "768/768 [==============================] - 3s 4ms/step - loss: 1.4092 - accuracy: 0.3815 - val_loss: 1.3936 - val_accuracy: 0.4245\n",
            "Epoch 18/100\n",
            "768/768 [==============================] - 3s 4ms/step - loss: 1.4093 - accuracy: 0.3815 - val_loss: 1.3941 - val_accuracy: 0.4245\n",
            "Epoch 19/100\n",
            "768/768 [==============================] - 3s 4ms/step - loss: 1.4093 - accuracy: 0.3815 - val_loss: 1.3939 - val_accuracy: 0.4245\n",
            "Epoch 20/100\n",
            "768/768 [==============================] - 3s 4ms/step - loss: 1.4092 - accuracy: 0.3815 - val_loss: 1.3943 - val_accuracy: 0.4245\n",
            "Epoch 21/100\n",
            "768/768 [==============================] - 3s 3ms/step - loss: 1.4093 - accuracy: 0.3815 - val_loss: 1.3946 - val_accuracy: 0.4245\n",
            "Epoch 22/100\n",
            "768/768 [==============================] - 3s 3ms/step - loss: 1.4093 - accuracy: 0.3815 - val_loss: 1.3948 - val_accuracy: 0.4245\n",
            "Epoch 23/100\n",
            "768/768 [==============================] - 3s 3ms/step - loss: 1.4093 - accuracy: 0.3815 - val_loss: 1.3947 - val_accuracy: 0.4245\n",
            "Epoch 24/100\n",
            "768/768 [==============================] - 3s 3ms/step - loss: 1.4092 - accuracy: 0.3815 - val_loss: 1.3944 - val_accuracy: 0.4245\n",
            "Epoch 25/100\n",
            "768/768 [==============================] - 3s 3ms/step - loss: 1.4092 - accuracy: 0.3815 - val_loss: 1.3944 - val_accuracy: 0.4245\n",
            "Epoch 26/100\n",
            "768/768 [==============================] - 3s 3ms/step - loss: 1.4092 - accuracy: 0.3815 - val_loss: 1.3945 - val_accuracy: 0.4245\n",
            "Epoch 27/100\n",
            "768/768 [==============================] - 3s 4ms/step - loss: 1.4093 - accuracy: 0.3815 - val_loss: 1.3947 - val_accuracy: 0.4245\n",
            "Epoch 28/100\n",
            "768/768 [==============================] - 3s 3ms/step - loss: 1.4092 - accuracy: 0.3815 - val_loss: 1.3947 - val_accuracy: 0.4245\n",
            "Epoch 29/100\n",
            "768/768 [==============================] - 4s 5ms/step - loss: 1.4092 - accuracy: 0.3815 - val_loss: 1.3949 - val_accuracy: 0.4245\n",
            "Epoch 30/100\n",
            "768/768 [==============================] - 3s 3ms/step - loss: 1.4092 - accuracy: 0.3815 - val_loss: 1.3942 - val_accuracy: 0.4245\n",
            "Epoch 31/100\n",
            "768/768 [==============================] - 3s 3ms/step - loss: 1.4092 - accuracy: 0.3815 - val_loss: 1.3947 - val_accuracy: 0.4245\n",
            "Epoch 32/100\n",
            "768/768 [==============================] - 3s 3ms/step - loss: 1.4093 - accuracy: 0.3815 - val_loss: 1.3940 - val_accuracy: 0.4245\n",
            "Epoch 33/100\n",
            "768/768 [==============================] - 3s 4ms/step - loss: 1.4093 - accuracy: 0.3815 - val_loss: 1.3941 - val_accuracy: 0.4245\n",
            "Epoch 34/100\n",
            "768/768 [==============================] - 3s 3ms/step - loss: 1.4093 - accuracy: 0.3815 - val_loss: 1.3944 - val_accuracy: 0.4245\n",
            "Epoch 35/100\n",
            "768/768 [==============================] - 3s 3ms/step - loss: 1.4092 - accuracy: 0.3815 - val_loss: 1.3940 - val_accuracy: 0.4245\n",
            "Epoch 36/100\n",
            "768/768 [==============================] - 3s 3ms/step - loss: 1.4091 - accuracy: 0.3815 - val_loss: 1.3941 - val_accuracy: 0.4245\n",
            "Epoch 37/100\n",
            "768/768 [==============================] - 3s 3ms/step - loss: 1.4091 - accuracy: 0.3815 - val_loss: 1.3944 - val_accuracy: 0.4245\n",
            "Epoch 38/100\n",
            "768/768 [==============================] - 3s 3ms/step - loss: 1.4092 - accuracy: 0.3815 - val_loss: 1.3944 - val_accuracy: 0.4245\n",
            "Epoch 39/100\n",
            "768/768 [==============================] - 3s 3ms/step - loss: 1.4093 - accuracy: 0.3815 - val_loss: 1.3938 - val_accuracy: 0.4245\n",
            "Epoch 40/100\n",
            "768/768 [==============================] - 3s 3ms/step - loss: 1.4092 - accuracy: 0.3815 - val_loss: 1.3941 - val_accuracy: 0.4245\n",
            "Epoch 41/100\n",
            "768/768 [==============================] - 3s 3ms/step - loss: 1.4092 - accuracy: 0.3815 - val_loss: 1.3940 - val_accuracy: 0.4245\n",
            "Epoch 42/100\n",
            "768/768 [==============================] - 3s 3ms/step - loss: 1.4092 - accuracy: 0.3815 - val_loss: 1.3936 - val_accuracy: 0.4245\n",
            "Epoch 43/100\n",
            "768/768 [==============================] - 3s 3ms/step - loss: 1.4093 - accuracy: 0.3815 - val_loss: 1.3939 - val_accuracy: 0.4245\n",
            "Epoch 44/100\n",
            "768/768 [==============================] - 3s 3ms/step - loss: 1.4092 - accuracy: 0.3815 - val_loss: 1.3945 - val_accuracy: 0.4245\n",
            "Epoch 45/100\n",
            "768/768 [==============================] - 3s 3ms/step - loss: 1.4091 - accuracy: 0.3815 - val_loss: 1.3935 - val_accuracy: 0.4245\n",
            "Epoch 46/100\n",
            "768/768 [==============================] - 3s 4ms/step - loss: 1.4091 - accuracy: 0.3815 - val_loss: 1.3937 - val_accuracy: 0.4245\n",
            "Epoch 47/100\n",
            "768/768 [==============================] - 3s 3ms/step - loss: 1.4093 - accuracy: 0.3815 - val_loss: 1.3936 - val_accuracy: 0.4245\n",
            "Epoch 48/100\n",
            "768/768 [==============================] - 3s 3ms/step - loss: 1.4092 - accuracy: 0.3815 - val_loss: 1.3938 - val_accuracy: 0.4245\n",
            "Epoch 49/100\n",
            "768/768 [==============================] - 3s 3ms/step - loss: 1.4092 - accuracy: 0.3815 - val_loss: 1.3940 - val_accuracy: 0.4245\n",
            "Epoch 50/100\n",
            "768/768 [==============================] - 3s 3ms/step - loss: 1.4092 - accuracy: 0.3815 - val_loss: 1.3940 - val_accuracy: 0.4245\n",
            "Epoch 51/100\n",
            "768/768 [==============================] - 3s 3ms/step - loss: 1.4092 - accuracy: 0.3815 - val_loss: 1.3939 - val_accuracy: 0.4245\n",
            "Epoch 52/100\n",
            "768/768 [==============================] - 3s 3ms/step - loss: 1.4093 - accuracy: 0.3815 - val_loss: 1.3938 - val_accuracy: 0.4245\n",
            "Epoch 53/100\n",
            "768/768 [==============================] - 3s 3ms/step - loss: 1.4093 - accuracy: 0.3815 - val_loss: 1.3936 - val_accuracy: 0.4245\n",
            "Epoch 54/100\n",
            "768/768 [==============================] - 3s 3ms/step - loss: 1.4093 - accuracy: 0.3815 - val_loss: 1.3946 - val_accuracy: 0.4245\n",
            "Epoch 55/100\n",
            "768/768 [==============================] - 3s 3ms/step - loss: 1.4092 - accuracy: 0.3815 - val_loss: 1.3941 - val_accuracy: 0.4245\n",
            "Epoch 56/100\n",
            "768/768 [==============================] - 3s 3ms/step - loss: 1.4093 - accuracy: 0.3815 - val_loss: 1.3945 - val_accuracy: 0.4245\n",
            "Epoch 57/100\n",
            "768/768 [==============================] - 3s 4ms/step - loss: 1.4092 - accuracy: 0.3815 - val_loss: 1.3949 - val_accuracy: 0.4245\n",
            "Epoch 58/100\n",
            "768/768 [==============================] - 3s 4ms/step - loss: 1.4092 - accuracy: 0.3815 - val_loss: 1.3941 - val_accuracy: 0.4245\n",
            "Epoch 59/100\n",
            "768/768 [==============================] - 3s 4ms/step - loss: 1.4093 - accuracy: 0.3815 - val_loss: 1.3941 - val_accuracy: 0.4245\n",
            "Epoch 60/100\n",
            "768/768 [==============================] - 3s 3ms/step - loss: 1.4092 - accuracy: 0.3815 - val_loss: 1.3939 - val_accuracy: 0.4245\n",
            "Epoch 61/100\n",
            "768/768 [==============================] - 3s 3ms/step - loss: 1.4093 - accuracy: 0.3815 - val_loss: 1.3940 - val_accuracy: 0.4245\n",
            "Epoch 62/100\n",
            "768/768 [==============================] - 3s 3ms/step - loss: 1.4092 - accuracy: 0.3815 - val_loss: 1.3941 - val_accuracy: 0.4245\n",
            "Epoch 63/100\n",
            "768/768 [==============================] - 3s 3ms/step - loss: 1.4093 - accuracy: 0.3815 - val_loss: 1.3943 - val_accuracy: 0.4245\n",
            "Epoch 64/100\n",
            "768/768 [==============================] - 3s 3ms/step - loss: 1.4092 - accuracy: 0.3815 - val_loss: 1.3941 - val_accuracy: 0.4245\n",
            "Epoch 65/100\n",
            "768/768 [==============================] - 3s 3ms/step - loss: 1.4093 - accuracy: 0.3815 - val_loss: 1.3940 - val_accuracy: 0.4245\n",
            "Epoch 66/100\n",
            "768/768 [==============================] - 3s 3ms/step - loss: 1.4092 - accuracy: 0.3815 - val_loss: 1.3939 - val_accuracy: 0.4245\n",
            "Epoch 67/100\n",
            "768/768 [==============================] - 3s 3ms/step - loss: 1.4093 - accuracy: 0.3815 - val_loss: 1.3940 - val_accuracy: 0.4245\n",
            "Epoch 68/100\n",
            "768/768 [==============================] - 3s 3ms/step - loss: 1.4092 - accuracy: 0.3815 - val_loss: 1.3938 - val_accuracy: 0.4245\n",
            "Epoch 69/100\n",
            "768/768 [==============================] - 3s 3ms/step - loss: 1.4093 - accuracy: 0.3815 - val_loss: 1.3937 - val_accuracy: 0.4245\n",
            "Epoch 70/100\n",
            "768/768 [==============================] - 3s 3ms/step - loss: 1.4093 - accuracy: 0.3815 - val_loss: 1.3935 - val_accuracy: 0.4245\n",
            "Epoch 71/100\n",
            "768/768 [==============================] - 3s 3ms/step - loss: 1.4093 - accuracy: 0.3815 - val_loss: 1.3942 - val_accuracy: 0.4245\n",
            "Epoch 72/100\n",
            "768/768 [==============================] - 3s 3ms/step - loss: 1.4092 - accuracy: 0.3815 - val_loss: 1.3943 - val_accuracy: 0.4245\n",
            "Epoch 73/100\n",
            "768/768 [==============================] - 3s 3ms/step - loss: 1.4093 - accuracy: 0.3815 - val_loss: 1.3943 - val_accuracy: 0.4245\n",
            "Epoch 74/100\n",
            "768/768 [==============================] - 3s 3ms/step - loss: 1.4093 - accuracy: 0.3815 - val_loss: 1.3940 - val_accuracy: 0.4245\n",
            "Epoch 75/100\n",
            "768/768 [==============================] - 3s 3ms/step - loss: 1.4093 - accuracy: 0.3815 - val_loss: 1.3939 - val_accuracy: 0.4245\n",
            "Epoch 76/100\n",
            "768/768 [==============================] - 3s 3ms/step - loss: 1.4093 - accuracy: 0.3815 - val_loss: 1.3941 - val_accuracy: 0.4245\n",
            "Epoch 77/100\n",
            "768/768 [==============================] - 3s 3ms/step - loss: 1.4092 - accuracy: 0.3815 - val_loss: 1.3941 - val_accuracy: 0.4245\n",
            "Epoch 78/100\n",
            "768/768 [==============================] - 3s 3ms/step - loss: 1.4092 - accuracy: 0.3815 - val_loss: 1.3940 - val_accuracy: 0.4245\n",
            "Epoch 79/100\n",
            "768/768 [==============================] - 3s 3ms/step - loss: 1.4092 - accuracy: 0.3815 - val_loss: 1.3940 - val_accuracy: 0.4245\n",
            "Epoch 80/100\n",
            "768/768 [==============================] - 3s 3ms/step - loss: 1.4093 - accuracy: 0.3815 - val_loss: 1.3941 - val_accuracy: 0.4245\n",
            "Epoch 81/100\n",
            "768/768 [==============================] - 3s 4ms/step - loss: 1.4091 - accuracy: 0.3815 - val_loss: 1.3948 - val_accuracy: 0.4245\n",
            "Epoch 82/100\n",
            "768/768 [==============================] - 3s 3ms/step - loss: 1.4091 - accuracy: 0.3815 - val_loss: 1.3945 - val_accuracy: 0.4245\n",
            "Epoch 83/100\n",
            "768/768 [==============================] - 3s 3ms/step - loss: 1.4093 - accuracy: 0.3815 - val_loss: 1.3943 - val_accuracy: 0.4245\n",
            "Epoch 84/100\n",
            "768/768 [==============================] - 3s 3ms/step - loss: 1.4092 - accuracy: 0.3815 - val_loss: 1.3939 - val_accuracy: 0.4245\n",
            "Epoch 85/100\n",
            "768/768 [==============================] - 3s 3ms/step - loss: 1.4093 - accuracy: 0.3815 - val_loss: 1.3947 - val_accuracy: 0.4245\n",
            "Epoch 86/100\n",
            "768/768 [==============================] - 3s 3ms/step - loss: 1.4092 - accuracy: 0.3815 - val_loss: 1.3944 - val_accuracy: 0.4245\n",
            "Epoch 87/100\n",
            "768/768 [==============================] - 3s 3ms/step - loss: 1.4092 - accuracy: 0.3815 - val_loss: 1.3941 - val_accuracy: 0.4245\n",
            "Epoch 88/100\n",
            "768/768 [==============================] - 3s 4ms/step - loss: 1.4092 - accuracy: 0.3815 - val_loss: 1.3939 - val_accuracy: 0.4245\n",
            "Epoch 89/100\n",
            "768/768 [==============================] - 3s 4ms/step - loss: 1.4092 - accuracy: 0.3815 - val_loss: 1.3939 - val_accuracy: 0.4245\n",
            "Epoch 90/100\n",
            "768/768 [==============================] - 3s 3ms/step - loss: 1.4092 - accuracy: 0.3815 - val_loss: 1.3939 - val_accuracy: 0.4245\n",
            "Epoch 91/100\n",
            "768/768 [==============================] - 3s 4ms/step - loss: 1.4092 - accuracy: 0.3815 - val_loss: 1.3936 - val_accuracy: 0.4245\n",
            "Epoch 92/100\n",
            "768/768 [==============================] - 3s 3ms/step - loss: 1.4092 - accuracy: 0.3815 - val_loss: 1.3943 - val_accuracy: 0.4245\n",
            "Epoch 93/100\n",
            "768/768 [==============================] - 3s 3ms/step - loss: 1.4093 - accuracy: 0.3815 - val_loss: 1.3940 - val_accuracy: 0.4245\n",
            "Epoch 94/100\n",
            "768/768 [==============================] - 3s 3ms/step - loss: 1.4092 - accuracy: 0.3815 - val_loss: 1.3939 - val_accuracy: 0.4245\n",
            "Epoch 95/100\n",
            "768/768 [==============================] - 3s 3ms/step - loss: 1.4093 - accuracy: 0.3815 - val_loss: 1.3938 - val_accuracy: 0.4245\n",
            "Epoch 96/100\n",
            "768/768 [==============================] - 3s 3ms/step - loss: 1.4093 - accuracy: 0.3815 - val_loss: 1.3946 - val_accuracy: 0.4245\n",
            "Epoch 97/100\n",
            "768/768 [==============================] - 3s 3ms/step - loss: 1.4093 - accuracy: 0.3815 - val_loss: 1.3943 - val_accuracy: 0.4245\n",
            "Epoch 98/100\n",
            "768/768 [==============================] - 3s 3ms/step - loss: 1.4093 - accuracy: 0.3815 - val_loss: 1.3942 - val_accuracy: 0.4245\n",
            "Epoch 99/100\n",
            "768/768 [==============================] - 3s 3ms/step - loss: 1.4092 - accuracy: 0.3815 - val_loss: 1.3939 - val_accuracy: 0.4245\n",
            "Epoch 100/100\n",
            "768/768 [==============================] - 3s 3ms/step - loss: 1.4093 - accuracy: 0.3815 - val_loss: 1.3946 - val_accuracy: 0.4245\n"
          ]
        },
        {
          "output_type": "execute_result",
          "data": {
            "text/plain": [
              "<keras.callbacks.History at 0x7efcd32afd50>"
            ]
          },
          "metadata": {},
          "execution_count": 31
        }
      ]
    },
    {
      "cell_type": "code",
      "source": [
        ""
      ],
      "metadata": {
        "id": "vNj3YqEsiGGE"
      },
      "execution_count": null,
      "outputs": []
    }
  ]
}